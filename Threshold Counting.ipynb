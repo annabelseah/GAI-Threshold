{
 "cells": [
  {
   "cell_type": "code",
   "execution_count": 78,
   "metadata": {},
   "outputs": [],
   "source": [
    "import pandas as pd\n",
    "import numpy as np"
   ]
  },
  {
   "cell_type": "markdown",
   "metadata": {},
   "source": [
    "Import dataset"
   ]
  },
  {
   "cell_type": "code",
   "execution_count": 2,
   "metadata": {},
   "outputs": [],
   "source": [
    "df = pd.read_csv(\"weekly_gai_sector.csv\")"
   ]
  },
  {
   "cell_type": "markdown",
   "metadata": {},
   "source": [
    "Sort the values out - by Sector ID, Year and Week"
   ]
  },
  {
   "cell_type": "code",
   "execution_count": 3,
   "metadata": {},
   "outputs": [],
   "source": [
    "df= df.sort_values([\"Sectorid\",\"Year\",\"Week\"])"
   ]
  },
  {
   "cell_type": "markdown",
   "metadata": {},
   "source": [
    "Get unique set of SectorID"
   ]
  },
  {
   "cell_type": "code",
   "execution_count": 4,
   "metadata": {},
   "outputs": [],
   "source": [
    "unique_sector = df[\"Sectorid\"].unique()"
   ]
  },
  {
   "cell_type": "markdown",
   "metadata": {},
   "source": [
    "Add a date column"
   ]
  },
  {
   "cell_type": "code",
   "execution_count": 5,
   "metadata": {},
   "outputs": [],
   "source": [
    "df[\"Date\"]=df[\"Year\"].astype(str) + \"-\" +df[\"Week\"].astype(str)"
   ]
  },
  {
   "cell_type": "markdown",
   "metadata": {},
   "source": [
    "There are a total of 1227 sectors"
   ]
  },
  {
   "cell_type": "code",
   "execution_count": 6,
   "metadata": {},
   "outputs": [
    {
     "data": {
      "text/plain": [
       "1227"
      ]
     },
     "execution_count": 6,
     "metadata": {},
     "output_type": "execute_result"
    }
   ],
   "source": [
    "len(unique_sector)"
   ]
  },
  {
   "cell_type": "markdown",
   "metadata": {},
   "source": [
    "Choose the sector"
   ]
  },
  {
   "cell_type": "code",
   "execution_count": 8,
   "metadata": {},
   "outputs": [],
   "source": [
    "sector_chosen = unique_sector[1000]\n",
    "df_sector = df[df[\"Sectorid\"]==sector_chosen].reset_index(drop=True)"
   ]
  },
  {
   "cell_type": "code",
   "execution_count": 9,
   "metadata": {},
   "outputs": [
    {
     "data": {
      "text/html": [
       "<div>\n",
       "<style scoped>\n",
       "    .dataframe tbody tr th:only-of-type {\n",
       "        vertical-align: middle;\n",
       "    }\n",
       "\n",
       "    .dataframe tbody tr th {\n",
       "        vertical-align: top;\n",
       "    }\n",
       "\n",
       "    .dataframe thead th {\n",
       "        text-align: right;\n",
       "    }\n",
       "</style>\n",
       "<table border=\"1\" class=\"dataframe\">\n",
       "  <thead>\n",
       "    <tr style=\"text-align: right;\">\n",
       "      <th></th>\n",
       "      <th>Year</th>\n",
       "      <th>Sectorid</th>\n",
       "      <th>GAI</th>\n",
       "      <th>Week</th>\n",
       "      <th>threshold_0.05</th>\n",
       "      <th>threshold_0.1</th>\n",
       "      <th>threshold_0.2</th>\n",
       "      <th>Date</th>\n",
       "    </tr>\n",
       "  </thead>\n",
       "  <tbody>\n",
       "    <tr>\n",
       "      <th>0</th>\n",
       "      <td>2018</td>\n",
       "      <td>FL648</td>\n",
       "      <td>0.131579</td>\n",
       "      <td>1</td>\n",
       "      <td>1</td>\n",
       "      <td>1</td>\n",
       "      <td>0</td>\n",
       "      <td>2018-1</td>\n",
       "    </tr>\n",
       "    <tr>\n",
       "      <th>1</th>\n",
       "      <td>2018</td>\n",
       "      <td>FL648</td>\n",
       "      <td>0.071429</td>\n",
       "      <td>2</td>\n",
       "      <td>1</td>\n",
       "      <td>0</td>\n",
       "      <td>0</td>\n",
       "      <td>2018-2</td>\n",
       "    </tr>\n",
       "    <tr>\n",
       "      <th>2</th>\n",
       "      <td>2018</td>\n",
       "      <td>FL648</td>\n",
       "      <td>0.210526</td>\n",
       "      <td>3</td>\n",
       "      <td>1</td>\n",
       "      <td>1</td>\n",
       "      <td>1</td>\n",
       "      <td>2018-3</td>\n",
       "    </tr>\n",
       "    <tr>\n",
       "      <th>3</th>\n",
       "      <td>2018</td>\n",
       "      <td>FL648</td>\n",
       "      <td>0.481481</td>\n",
       "      <td>4</td>\n",
       "      <td>1</td>\n",
       "      <td>1</td>\n",
       "      <td>1</td>\n",
       "      <td>2018-4</td>\n",
       "    </tr>\n",
       "    <tr>\n",
       "      <th>4</th>\n",
       "      <td>2018</td>\n",
       "      <td>FL648</td>\n",
       "      <td>0.131579</td>\n",
       "      <td>5</td>\n",
       "      <td>1</td>\n",
       "      <td>1</td>\n",
       "      <td>0</td>\n",
       "      <td>2018-5</td>\n",
       "    </tr>\n",
       "  </tbody>\n",
       "</table>\n",
       "</div>"
      ],
      "text/plain": [
       "   Year Sectorid       GAI  Week  threshold_0.05  threshold_0.1  \\\n",
       "0  2018    FL648  0.131579     1               1              1   \n",
       "1  2018    FL648  0.071429     2               1              0   \n",
       "2  2018    FL648  0.210526     3               1              1   \n",
       "3  2018    FL648  0.481481     4               1              1   \n",
       "4  2018    FL648  0.131579     5               1              1   \n",
       "\n",
       "   threshold_0.2    Date  \n",
       "0              0  2018-1  \n",
       "1              0  2018-2  \n",
       "2              1  2018-3  \n",
       "3              1  2018-4  \n",
       "4              0  2018-5  "
      ]
     },
     "execution_count": 9,
     "metadata": {},
     "output_type": "execute_result"
    }
   ],
   "source": [
    "df_sector.head()"
   ]
  },
  {
   "cell_type": "markdown",
   "metadata": {},
   "source": [
    "Write a function to count consecutive lengths"
   ]
  },
  {
   "cell_type": "code",
   "execution_count": 94,
   "metadata": {},
   "outputs": [],
   "source": [
    "def count_length(x):\n",
    "    container = []\n",
    "    i=0\n",
    "    counter= 0\n",
    "    while i <len(x):\n",
    "       # print(i)\n",
    "        if x[i]==1:\n",
    "            counter+=1\n",
    "            if i==len(x)-1:\n",
    "                container.append([i+1,counter])\n",
    "            i+=1\n",
    "        elif x[i]==0:\n",
    "           # print(i)\n",
    "            if  i!=0 and x[i-1]==1:\n",
    "                container.append([i,counter])\n",
    "            counter=0\n",
    "            i+=1\n",
    "            continue\n",
    "    return container"
   ]
  },
  {
   "cell_type": "code",
   "execution_count": 95,
   "metadata": {},
   "outputs": [],
   "source": [
    "foo=df[df[\"Sectorid\"]==\"CO1\"][\"threshold_0.05\"].reset_index(drop=True)"
   ]
  },
  {
   "cell_type": "code",
   "execution_count": 96,
   "metadata": {},
   "outputs": [
    {
     "data": {
      "text/plain": [
       "array([0, 0, 0, 0, 0, 0, 0, 0, 0, 0, 0, 0, 0, 0, 0, 0, 0, 0, 0, 0, 0, 0,\n",
       "       0, 0, 0, 0, 0, 0, 0, 0, 0, 0, 0, 0, 0, 0, 0, 0, 0, 0, 0, 0, 0, 0,\n",
       "       0, 0, 0, 0, 0, 0, 0, 0, 0, 0, 0, 0, 0, 0, 0, 0, 0, 0, 0, 0, 0],\n",
       "      dtype=int64)"
      ]
     },
     "execution_count": 96,
     "metadata": {},
     "output_type": "execute_result"
    }
   ],
   "source": [
    "np.array(foo)"
   ]
  },
  {
   "cell_type": "code",
   "execution_count": 97,
   "metadata": {},
   "outputs": [
    {
     "data": {
      "text/plain": [
       "[]"
      ]
     },
     "execution_count": 97,
     "metadata": {},
     "output_type": "execute_result"
    }
   ],
   "source": [
    "count_length(foo)"
   ]
  },
  {
   "cell_type": "markdown",
   "metadata": {},
   "source": [
    "Write function to return the dates"
   ]
  },
  {
   "cell_type": "code",
   "execution_count": 106,
   "metadata": {},
   "outputs": [],
   "source": [
    "def return_dates(container,masterframe,threshold):\n",
    "    filtered_container =  list(filter(lambda x: x[1]>=threshold, container)) \n",
    "  #  print(filtered_container)\n",
    "    lengths = list(map(lambda x: x[1],filtered_container))\n",
    "    date_index = [[x-y,x] for [x,y] in filtered_container]\n",
    "    #print(\"=\"*30)\n",
    "    #print(date_index)\n",
    "    #build frame\n",
    "    frame = [[masterframe[\"Date\"][x],masterframe[\"Date\"][y-1]] for [x,y] in date_index]\n",
    "    frame = pd.DataFrame(frame,columns = [\"Start\",\"End\"])\n",
    "    frame[\"Duration\"]=lengths\n",
    "  #  print(frame)\n",
    "   # print(lengths)\n",
    "    '''\n",
    "        results = []\n",
    "    for i in range(0,len(frame)):\n",
    "        temp = pd.DataFrame(frame[i]).transpose()\n",
    "       # print(temp)\n",
    "        temp[\"Length\"]=lengths[i]\n",
    "        results.append(temp)\n",
    "    '''\n",
    "\n",
    "    return frame\n",
    "\n"
   ]
  },
  {
   "cell_type": "code",
   "execution_count": 27,
   "metadata": {},
   "outputs": [],
   "source": [
    "def return_dates(container,masterframe,threshold):\n",
    "    filtered_container =  list(filter(lambda x: x[1]>=threshold, container)) \n",
    "  #  print(filtered_container)\n",
    "    lengths = list(map(lambda x: x[1],filtered_container))\n",
    "    date_index = [[x-y,x] for [x,y] in filtered_container]\n",
    "    \n",
    "    #build frame\n",
    "    frame = [[masterframe[\"Date\"][x:y]] for [x,y] in date_index]\n",
    "  #  print(frame)\n",
    "   # print(lengths)\n",
    "    results = []\n",
    "    for i in range(0,len(frame)):\n",
    "        temp = pd.DataFrame(frame[i]).transpose()\n",
    "       # print(temp)\n",
    "        temp[\"Length\"]=lengths[i]\n",
    "        results.append(temp)\n",
    "    return pd.concat(results)\n",
    "\n"
   ]
  },
  {
   "cell_type": "code",
   "execution_count": 98,
   "metadata": {},
   "outputs": [],
   "source": [
    "bar=count_length(df_sector[\"threshold_0.05\"])"
   ]
  },
  {
   "cell_type": "code",
   "execution_count": 75,
   "metadata": {},
   "outputs": [
    {
     "name": "stdout",
     "output_type": "stream",
     "text": [
      "==============================\n",
      "[[0, 17], [34, 38], [42, 72], [74, 81], [82, 95], [97, 169]]\n"
     ]
    }
   ],
   "source": [
    "foo = return_dates(bar,df_sector,4)"
   ]
  },
  {
   "cell_type": "code",
   "execution_count": 76,
   "metadata": {},
   "outputs": [],
   "source": [
    "foo.insert(0,\"Sector\",\"A\")"
   ]
  },
  {
   "cell_type": "code",
   "execution_count": 77,
   "metadata": {},
   "outputs": [
    {
     "data": {
      "text/html": [
       "<div>\n",
       "<style scoped>\n",
       "    .dataframe tbody tr th:only-of-type {\n",
       "        vertical-align: middle;\n",
       "    }\n",
       "\n",
       "    .dataframe tbody tr th {\n",
       "        vertical-align: top;\n",
       "    }\n",
       "\n",
       "    .dataframe thead th {\n",
       "        text-align: right;\n",
       "    }\n",
       "</style>\n",
       "<table border=\"1\" class=\"dataframe\">\n",
       "  <thead>\n",
       "    <tr style=\"text-align: right;\">\n",
       "      <th></th>\n",
       "      <th>Sector</th>\n",
       "      <th>Start</th>\n",
       "      <th>End</th>\n",
       "      <th>Duration</th>\n",
       "    </tr>\n",
       "  </thead>\n",
       "  <tbody>\n",
       "    <tr>\n",
       "      <th>0</th>\n",
       "      <td>A</td>\n",
       "      <td>2018-1</td>\n",
       "      <td>2018-17</td>\n",
       "      <td>17</td>\n",
       "    </tr>\n",
       "    <tr>\n",
       "      <th>1</th>\n",
       "      <td>A</td>\n",
       "      <td>2018-35</td>\n",
       "      <td>2018-38</td>\n",
       "      <td>4</td>\n",
       "    </tr>\n",
       "    <tr>\n",
       "      <th>2</th>\n",
       "      <td>A</td>\n",
       "      <td>2018-43</td>\n",
       "      <td>2019-20</td>\n",
       "      <td>30</td>\n",
       "    </tr>\n",
       "    <tr>\n",
       "      <th>3</th>\n",
       "      <td>A</td>\n",
       "      <td>2019-23</td>\n",
       "      <td>2019-29</td>\n",
       "      <td>7</td>\n",
       "    </tr>\n",
       "    <tr>\n",
       "      <th>4</th>\n",
       "      <td>A</td>\n",
       "      <td>2019-31</td>\n",
       "      <td>2019-43</td>\n",
       "      <td>13</td>\n",
       "    </tr>\n",
       "    <tr>\n",
       "      <th>5</th>\n",
       "      <td>A</td>\n",
       "      <td>2019-46</td>\n",
       "      <td>2021-13</td>\n",
       "      <td>72</td>\n",
       "    </tr>\n",
       "  </tbody>\n",
       "</table>\n",
       "</div>"
      ],
      "text/plain": [
       "  Sector    Start      End  Duration\n",
       "0      A   2018-1  2018-17        17\n",
       "1      A  2018-35  2018-38         4\n",
       "2      A  2018-43  2019-20        30\n",
       "3      A  2019-23  2019-29         7\n",
       "4      A  2019-31  2019-43        13\n",
       "5      A  2019-46  2021-13        72"
      ]
     },
     "execution_count": 77,
     "metadata": {},
     "output_type": "execute_result"
    }
   ],
   "source": [
    "foo"
   ]
  },
  {
   "cell_type": "markdown",
   "metadata": {},
   "source": [
    "### Put everything together"
   ]
  },
  {
   "cell_type": "code",
   "execution_count": 130,
   "metadata": {},
   "outputs": [],
   "source": [
    "def gen_cutoff(cutoff,min_threshold):\n",
    "    container= {}\n",
    "    for i,sector in enumerate(unique_sector):\n",
    "      #  print(\"=\"*30)\n",
    "       # print(f\"{i}_{sector}\")\n",
    "        sector_chosen = unique_sector[i]\n",
    "        df_sector = df[df[\"Sectorid\"]==sector_chosen].reset_index(drop=True)\n",
    "       # print(df_sector)\n",
    "        #count consecutive lengths\n",
    "        consec_length = count_length(df_sector[cutoff])\n",
    "        #print(\"YAZ\")\n",
    "        if len(consec_length)>0:\n",
    "            dateframe = return_dates(consec_length,df_sector,min_threshold)\n",
    "            container[sector_chosen]=dateframe\n",
    "            \n",
    "    #filter out the values for sectors with at least one threshold met\n",
    "    newDict = {key: value for (key, value) in container.items() if len(value) >0 }\n",
    "    masterframe = pd.concat(newDict).reset_index().drop(\"level_1\",axis=1).rename(columns={\"level_0\":\"SectorID\"})\n",
    "    return masterframe\n",
    "        \n",
    "    "
   ]
  },
  {
   "cell_type": "markdown",
   "metadata": {},
   "source": [
    "### Result Threshold 0.05"
   ]
  },
  {
   "cell_type": "code",
   "execution_count": 132,
   "metadata": {
    "scrolled": false
   },
   "outputs": [],
   "source": [
    "result_005 = gen_cutoff(\"threshold_0.05\",4)"
   ]
  },
  {
   "cell_type": "code",
   "execution_count": 135,
   "metadata": {},
   "outputs": [],
   "source": [
    "result_01 = gen_cutoff(\"threshold_0.1\",4)"
   ]
  },
  {
   "cell_type": "code",
   "execution_count": 139,
   "metadata": {},
   "outputs": [],
   "source": [
    "result_02 = gen_cutoff(\"threshold_0.2\",4)"
   ]
  },
  {
   "cell_type": "code",
   "execution_count": 163,
   "metadata": {},
   "outputs": [],
   "source": [
    "result_005.to_csv(\"result_005.csv\",index=False)"
   ]
  },
  {
   "cell_type": "code",
   "execution_count": 164,
   "metadata": {},
   "outputs": [],
   "source": [
    "result_01.to_csv(\"result_01.csv\",index=False)"
   ]
  },
  {
   "cell_type": "code",
   "execution_count": 165,
   "metadata": {},
   "outputs": [],
   "source": [
    "result_02.to_csv(\"result_02.csv\",index=False)"
   ]
  },
  {
   "cell_type": "code",
   "execution_count": 137,
   "metadata": {
    "scrolled": false
   },
   "outputs": [
    {
     "name": "stdout",
     "output_type": "stream",
     "text": [
      "<class 'pandas.core.frame.DataFrame'>\n",
      "RangeIndex: 5394 entries, 0 to 5393\n",
      "Data columns (total 4 columns):\n",
      " #   Column    Non-Null Count  Dtype \n",
      "---  ------    --------------  ----- \n",
      " 0   SectorID  5394 non-null   object\n",
      " 1   Start     5394 non-null   object\n",
      " 2   End       5394 non-null   object\n",
      " 3   Duration  5394 non-null   int64 \n",
      "dtypes: int64(1), object(3)\n",
      "memory usage: 168.7+ KB\n"
     ]
    }
   ],
   "source": [
    "result_005.info()"
   ]
  },
  {
   "cell_type": "code",
   "execution_count": 136,
   "metadata": {},
   "outputs": [
    {
     "name": "stdout",
     "output_type": "stream",
     "text": [
      "<class 'pandas.core.frame.DataFrame'>\n",
      "RangeIndex: 5259 entries, 0 to 5258\n",
      "Data columns (total 4 columns):\n",
      " #   Column    Non-Null Count  Dtype \n",
      "---  ------    --------------  ----- \n",
      " 0   SectorID  5259 non-null   object\n",
      " 1   Start     5259 non-null   object\n",
      " 2   End       5259 non-null   object\n",
      " 3   Duration  5259 non-null   int64 \n",
      "dtypes: int64(1), object(3)\n",
      "memory usage: 164.5+ KB\n"
     ]
    }
   ],
   "source": [
    "result_01.info()"
   ]
  },
  {
   "cell_type": "code",
   "execution_count": 140,
   "metadata": {},
   "outputs": [
    {
     "name": "stdout",
     "output_type": "stream",
     "text": [
      "<class 'pandas.core.frame.DataFrame'>\n",
      "RangeIndex: 3891 entries, 0 to 3890\n",
      "Data columns (total 4 columns):\n",
      " #   Column    Non-Null Count  Dtype \n",
      "---  ------    --------------  ----- \n",
      " 0   SectorID  3891 non-null   object\n",
      " 1   Start     3891 non-null   object\n",
      " 2   End       3891 non-null   object\n",
      " 3   Duration  3891 non-null   int64 \n",
      "dtypes: int64(1), object(3)\n",
      "memory usage: 121.7+ KB\n"
     ]
    }
   ],
   "source": [
    "result_02.info()"
   ]
  },
  {
   "cell_type": "markdown",
   "metadata": {},
   "source": [
    "Filter out the results to include only sectors that have a value/ dataframe"
   ]
  },
  {
   "cell_type": "code",
   "execution_count": 116,
   "metadata": {},
   "outputs": [],
   "source": [
    "newDict = {key: value for (key, value) in result.items() if len(value) >0 }"
   ]
  },
  {
   "cell_type": "code",
   "execution_count": 124,
   "metadata": {},
   "outputs": [],
   "source": [
    "masterframe = pd.concat(newDict).reset_index().drop(\"level_1\",axis=1).rename(columns={\"level_0\":\"SectorID\"})"
   ]
  },
  {
   "cell_type": "code",
   "execution_count": 125,
   "metadata": {},
   "outputs": [
    {
     "data": {
      "text/html": [
       "<div>\n",
       "<style scoped>\n",
       "    .dataframe tbody tr th:only-of-type {\n",
       "        vertical-align: middle;\n",
       "    }\n",
       "\n",
       "    .dataframe tbody tr th {\n",
       "        vertical-align: top;\n",
       "    }\n",
       "\n",
       "    .dataframe thead th {\n",
       "        text-align: right;\n",
       "    }\n",
       "</style>\n",
       "<table border=\"1\" class=\"dataframe\">\n",
       "  <thead>\n",
       "    <tr style=\"text-align: right;\">\n",
       "      <th></th>\n",
       "      <th>SectorID</th>\n",
       "      <th>Start</th>\n",
       "      <th>End</th>\n",
       "      <th>Duration</th>\n",
       "    </tr>\n",
       "  </thead>\n",
       "  <tbody>\n",
       "    <tr>\n",
       "      <th>0</th>\n",
       "      <td>CO130</td>\n",
       "      <td>2021-6</td>\n",
       "      <td>2021-10</td>\n",
       "      <td>5</td>\n",
       "    </tr>\n",
       "    <tr>\n",
       "      <th>1</th>\n",
       "      <td>CO313</td>\n",
       "      <td>2020-6</td>\n",
       "      <td>2020-10</td>\n",
       "      <td>5</td>\n",
       "    </tr>\n",
       "    <tr>\n",
       "      <th>2</th>\n",
       "      <td>CO313</td>\n",
       "      <td>2020-12</td>\n",
       "      <td>2021-13</td>\n",
       "      <td>54</td>\n",
       "    </tr>\n",
       "    <tr>\n",
       "      <th>3</th>\n",
       "      <td>CO315</td>\n",
       "      <td>2020-32</td>\n",
       "      <td>2020-37</td>\n",
       "      <td>6</td>\n",
       "    </tr>\n",
       "    <tr>\n",
       "      <th>4</th>\n",
       "      <td>CO315</td>\n",
       "      <td>2020-39</td>\n",
       "      <td>2020-48</td>\n",
       "      <td>10</td>\n",
       "    </tr>\n",
       "  </tbody>\n",
       "</table>\n",
       "</div>"
      ],
      "text/plain": [
       "  SectorID    Start      End  Duration\n",
       "0    CO130   2021-6  2021-10         5\n",
       "1    CO313   2020-6  2020-10         5\n",
       "2    CO313  2020-12  2021-13        54\n",
       "3    CO315  2020-32  2020-37         6\n",
       "4    CO315  2020-39  2020-48        10"
      ]
     },
     "execution_count": 125,
     "metadata": {},
     "output_type": "execute_result"
    }
   ],
   "source": [
    "masterframe.head()"
   ]
  },
  {
   "cell_type": "code",
   "execution_count": 126,
   "metadata": {},
   "outputs": [],
   "source": [
    "masterframe.to_csv(\"Sectors_Threshold.csv\",index=False)"
   ]
  }
 ],
 "metadata": {
  "kernelspec": {
   "display_name": "Python 3",
   "language": "python",
   "name": "python3"
  },
  "language_info": {
   "codemirror_mode": {
    "name": "ipython",
    "version": 3
   },
   "file_extension": ".py",
   "mimetype": "text/x-python",
   "name": "python",
   "nbconvert_exporter": "python",
   "pygments_lexer": "ipython3",
   "version": "3.7.6"
  }
 },
 "nbformat": 4,
 "nbformat_minor": 4
}
